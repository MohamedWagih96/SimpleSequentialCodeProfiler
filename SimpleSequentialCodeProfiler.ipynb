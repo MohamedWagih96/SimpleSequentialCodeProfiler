{
 "cells": [
  {
   "cell_type": "code",
   "execution_count": 1,
   "metadata": {},
   "outputs": [],
   "source": [
    "from tabulate import tabulate\n",
    "import re , os\n",
    "import numpy as np\n",
    "import matplotlib.pyplot as plt\n",
    "import networkx as nx\n",
    "from hierarchy import hierarchy_pos"
   ]
  },
  {
   "cell_type": "code",
   "execution_count": 2,
   "metadata": {},
   "outputs": [],
   "source": [
    "#Global Variables\n",
    "call_stack = list()\n",
    "trace_stack = list()\n",
    "interrupted_functions = list()\n",
    "waiting_queue = list()"
   ]
  },
  {
   "cell_type": "code",
   "execution_count": 3,
   "metadata": {},
   "outputs": [],
   "source": [
    "def show_stack_content(tabular_data):\n",
    "    print(tabulate(tabular_data, headers=['Operation' , 'Current Context' , 'Time'] , tablefmt='fancy_grid'))"
   ]
  },
  {
   "cell_type": "code",
   "execution_count": 4,
   "metadata": {},
   "outputs": [],
   "source": [
    "def peek(stack):\n",
    "    if(stack == []):\n",
    "        return None\n",
    "    else:\n",
    "        return stack[-1]"
   ]
  },
  {
   "cell_type": "code",
   "execution_count": 5,
   "metadata": {},
   "outputs": [],
   "source": [
    "def get_call_stack_trace(operation , functions , time , nodes):\n",
    "    found_new = False\n",
    "    found_key = ''\n",
    "    if(peek(trace_stack) != None):\n",
    "        index = re.split('call' , str(peek(trace_stack)) , flags=re.IGNORECASE)[1].strip()\n",
    "        \n",
    "        if('Return' in operation and index in interrupted_functions):\n",
    "            interrupted_functions.pop()\n",
    "            call_stack.pop()\n",
    "\n",
    "        elif('Call' in operation and 'Call' in str(peek(trace_stack))):\n",
    "            interrupted_functions.append(index)\n",
    "\n",
    "        elif('Return' in operation and index not in interrupted_functions):\n",
    "            call_stack.pop()\n",
    "            \n",
    "    if(operation != 'Return'):\n",
    "        key = re.split('call' , operation , flags=re.IGNORECASE)[1].strip()\n",
    "        call_stack.append(key)\n",
    "        \n",
    "        if(peek(trace_stack) != None):\n",
    "            index = re.split('call' , str(peek(trace_stack)) , flags=re.IGNORECASE)[1].strip()\n",
    "            for node in nodes[index]:\n",
    "                if(node[0] != key and node[0] != ''):\n",
    "                    found_new = True\n",
    "                    found_key = key\n",
    "                else:\n",
    "                    found_new = False\n",
    "                    node[0] = key\n",
    "                    node[1] += 1\n",
    "                    break\n",
    "                    \n",
    "            if(found_new):\n",
    "                nodes[index].append([found_key , 1])\n",
    "                    \n",
    "    return call_stack"
   ]
  },
  {
   "cell_type": "code",
   "execution_count": 6,
   "metadata": {},
   "outputs": [],
   "source": [
    "def read_log_file(file_path):\n",
    "    try:\n",
    "        logs_file = open(file_path , 'r')\n",
    "        logs_lines = logs_file.read().split('\\n')\n",
    "        tabular_data = list()\n",
    "        functions = dict()\n",
    "        nodes = dict()\n",
    "        code_flow = list() \n",
    "        number_of_calls = 0\n",
    "        number_of_returns = 0\n",
    "        logs_file_corrupted = False\n",
    "        \n",
    "    \n",
    "        for line in logs_lines:\n",
    "            logs = line.split(' - ')\n",
    "            \n",
    "            if(logs[0].lower() != 'return'):\n",
    "                fn_name = logs[0].split('Call')[1].strip()\n",
    "                functions[fn_name] = [0,0,0] #call/return time , inclusive time , exclusive time\n",
    "                nodes[fn_name] = [['',0]]\n",
    "                number_of_calls += 1\n",
    "            else:\n",
    "                number_of_returns += 1\n",
    "                \n",
    "        if(number_of_calls != number_of_returns):\n",
    "            logs_file_corrupted = True\n",
    "   \n",
    "        for i in range(len(logs_lines)-1):\n",
    "            logs_current = logs_lines[i].split(' - ')\n",
    "            logs_next = logs_lines[i+1].split(' - ')\n",
    "            current_context = get_call_stack_trace(logs_current[0] , functions , int(logs_current[1].strip()) , nodes)\n",
    "            tabular_data.append([logs_current[0] , '<' + ' , '.join(current_context) + '>' , logs_current[1]])\n",
    "            if(logs_current[0] == 'Return'):\n",
    "                code_flow.append(['return'])\n",
    "            code_flow.append([logs_current[1] , peek(current_context) , logs_next[1]])\n",
    "            \n",
    "            if(i == len(logs_lines)-2):\n",
    "                code_flow.append(['return'])\n",
    "                current_context = get_call_stack_trace(logs_next[0] , functions , int(logs_next[1].strip()) , nodes)\n",
    "                tabular_data.append([logs_next[0] , '<' + ' , '.join(current_context) + '>' , logs_next[1]])\n",
    "            \n",
    "            \n",
    "            if(logs_current[0]!= 'Return'):\n",
    "                trace_stack.append(logs_current[0])\n",
    "            else:\n",
    "                trace_stack.pop()\n",
    "        \n",
    "        return tabular_data , functions , nodes , code_flow , logs_file_corrupted\n",
    "    \n",
    "    except IOError:\n",
    "        print(file_path , 'is not valid!')"
   ]
  },
  {
   "cell_type": "code",
   "execution_count": 7,
   "metadata": {},
   "outputs": [],
   "source": [
    "def calculate_inclusive_and_exclusive_times(fn_name , code_flow):\n",
    "    for i in range(len(code_flow)-1):\n",
    "        item = code_flow[i]\n",
    "\n",
    "        if(code_flow[i] != ['return']):\n",
    "            if(item[1] == fn_name and code_flow[i+1] != ['return']):\n",
    "                if(fn_name not in waiting_queue):\n",
    "                    functions[fn_name][0] = int(item[0])\n",
    "                    waiting_queue.append(fn_name)\n",
    "\n",
    "                functions[fn_name][2] += int(item[2]) - int(item[0])\n",
    "\n",
    "            #Calculate inclusive and exclusive times for interrupted functions\n",
    "            elif(item[1] == fn_name and code_flow[i+1] == ['return'] and fn_name in waiting_queue):\n",
    "                functions[fn_name][1] += int(item[2]) - functions[fn_name][0]\n",
    "                functions[fn_name][2] += int(item[2]) - int(item[0])\n",
    "                waiting_queue.pop()\n",
    "                #functions['a'][0] = int(item[0])\n",
    "\n",
    "            #Calculate exclusive time for one-shot functions\n",
    "            elif(item[1] == fn_name and code_flow[i+1] == ['return'] and fn_name not in waiting_queue):\n",
    "                functions[fn_name][0] = int(item[0])\n",
    "                functions[fn_name][2] += int(item[2]) - int(item[0])\n",
    "                \n",
    "    return functions"
   ]
  },
  {
   "cell_type": "code",
   "execution_count": 8,
   "metadata": {},
   "outputs": [],
   "source": [
    "def draw_bar_chart(functions , code_flow):\n",
    "    for fn_name in functions:\n",
    "        functions = calculate_inclusive_and_exclusive_times(fn_name , code_flow)\n",
    "    \n",
    "    functions_names = list()\n",
    "    inclusive_times = list()\n",
    "    exclusive_times = list()\n",
    "    \n",
    "    #Data to plot\n",
    "    n_groups = len(functions)\n",
    "    \n",
    "    for key in functions:\n",
    "        inclusive_times.append(functions[key][1])\n",
    "        exclusive_times.append(functions[key][2])\n",
    "        \n",
    "        functions_names.append(key)\n",
    "\n",
    "\n",
    "    #Create plot\n",
    "    fig, ax = plt.subplots()\n",
    "    index = np.arange(n_groups)\n",
    "    bar_width = 0.35\n",
    "    opacity = 0.8\n",
    "\n",
    "    inclusive_bar = plt.barh(index, inclusive_times, bar_width,\n",
    "    alpha=opacity,\n",
    "    color='b',\n",
    "    label='Inclusive Time')\n",
    "\n",
    "    exclusive_bar = plt.barh(index + bar_width, exclusive_times, bar_width,\n",
    "    alpha=opacity,\n",
    "    color='g',\n",
    "    label='Exclusive Time')\n",
    "\n",
    "    plt.xlabel('Time')\n",
    "    plt.ylabel('Functions')\n",
    "    plt.title('Inclusive vs Exclusive Bar Chart')\n",
    "    plt.yticks(index + bar_width, functions_names)\n",
    "    plt.legend()\n",
    "\n",
    "    plt.tight_layout()\n",
    "    plt.show()"
   ]
  },
  {
   "cell_type": "code",
   "execution_count": 9,
   "metadata": {},
   "outputs": [],
   "source": [
    "def draw_CCT(nodes):\n",
    "    G = nx.DiGraph()\n",
    "    e_labels = dict()\n",
    "    max_weight = 0\n",
    "\n",
    "    for key,node in nodes.items():\n",
    "        for subnode in node:\n",
    "            for i in range(len(subnode)//2):\n",
    "                if(subnode[0] != ''):\n",
    "                    if(max_weight < subnode[1]):\n",
    "                        max_weight = subnode[1]\n",
    "\n",
    "                    G.add_edge(key , subnode[0] , weight=subnode[1])\n",
    "                    e_labels[(key , subnode[0])] = subnode[1]\n",
    "\n",
    "\n",
    "    elarge = [(u, v) for (u, v, d) in G.edges(data=True) if d['weight'] >= max_weight]\n",
    "    esmall = [(u, v) for (u, v, d) in G.edges(data=True) if d['weight'] < max_weight]\n",
    "\n",
    "    pos = hierarchy_pos(G , None , 1 , 1)\n",
    "\n",
    "    #Nodes\n",
    "    nx.draw_networkx_nodes(G, pos, node_size=500 , node_color='g')\n",
    "\n",
    "    #Edges\n",
    "    nx.draw_networkx_edges(G, pos, edgelist=elarge,\n",
    "                           width=4, alpha=0.8 , edge_color='r')\n",
    "    nx.draw_networkx_edges(G, pos, edgelist=esmall,\n",
    "                           width=4, alpha=1.0 , style='dashed')\n",
    "\n",
    "    #labels\n",
    "    nx.draw_networkx_labels(G, pos , font_size=20, font_family='sans-serif')\n",
    "    nx.draw_networkx_edge_labels(G, pos , edge_labels=e_labels , font_size=15, font_family='sans-serif')\n",
    "    \n",
    "    plt.title('Contex Call Tree')\n",
    "    plt.axis('off')\n",
    "    plt.show()"
   ]
  },
  {
   "cell_type": "code",
   "execution_count": 10,
   "metadata": {
    "scrolled": false
   },
   "outputs": [],
   "source": [
    "path = os.getcwd() + '\\Logs.txt'\n",
    "tabular_data , functions , nodes , code_flow , logs_file_corrupted = read_log_file(path)"
   ]
  },
  {
   "cell_type": "code",
   "execution_count": 11,
   "metadata": {},
   "outputs": [
    {
     "name": "stdout",
     "output_type": "stream",
     "text": [
      "╒═════════════╤═══════════════════╤════════╕\n",
      "│ Operation   │ Current Context   │   Time │\n",
      "╞═════════════╪═══════════════════╪════════╡\n",
      "│ Call main   │ <main>            │      0 │\n",
      "├─────────────┼───────────────────┼────────┤\n",
      "│ Call a      │ <main , a>        │      5 │\n",
      "├─────────────┼───────────────────┼────────┤\n",
      "│ Call b      │ <main , a , b>    │      6 │\n",
      "├─────────────┼───────────────────┼────────┤\n",
      "│ Return      │ <main , a>        │      8 │\n",
      "├─────────────┼───────────────────┼────────┤\n",
      "│ Call b      │ <main , a , b>    │      9 │\n",
      "├─────────────┼───────────────────┼────────┤\n",
      "│ Return      │ <main , a>        │     10 │\n",
      "├─────────────┼───────────────────┼────────┤\n",
      "│ Return      │ <main>            │     12 │\n",
      "├─────────────┼───────────────────┼────────┤\n",
      "│ Call a      │ <main , a>        │     15 │\n",
      "├─────────────┼───────────────────┼────────┤\n",
      "│ Call c      │ <main , a , c>    │     16 │\n",
      "├─────────────┼───────────────────┼────────┤\n",
      "│ Return      │ <main , a>        │     18 │\n",
      "├─────────────┼───────────────────┼────────┤\n",
      "│ Return      │ <main>            │     19 │\n",
      "├─────────────┼───────────────────┼────────┤\n",
      "│ Return      │ <>                │     20 │\n",
      "╘═════════════╧═══════════════════╧════════╛\n"
     ]
    },
    {
     "data": {
      "image/png": "[encoded data removed]",
      "text/plain": [
       "<Figure size 432x288 with 1 Axes>"
      ]
     },
     "metadata": {
      "needs_background": "light"
     },
     "output_type": "display_data"
    },
    {
     "data": {
      "image/png": "[encoded data removed]",
      "text/plain": [
       "<Figure size 432x288 with 1 Axes>"
      ]
     },
     "metadata": {
      "needs_background": "light"
     },
     "output_type": "display_data"
    }
   ],
   "source": [
    "if(not logs_file_corrupted):\n",
    "    show_stack_content(tabular_data)\n",
    "    draw_bar_chart(functions , code_flow)\n",
    "    draw_CCT(nodes)\n",
    "else:\n",
    "    print('Logs file is not valid or corrupted!')"
   ]
  }
 ],
 "metadata": {
  "kernelspec": {
   "display_name": "Python 3",
   "language": "python",
   "name": "python3"
  },
  "language_info": {
   "codemirror_mode": {
    "name": "ipython",
    "version": 3
   },
   "file_extension": ".py",
   "mimetype": "text/x-python",
   "name": "python",
   "nbconvert_exporter": "python",
   "pygments_lexer": "ipython3",
   "version": "3.7.1"
  }
 },
 "nbformat": 4,
 "nbformat_minor": 2
}
